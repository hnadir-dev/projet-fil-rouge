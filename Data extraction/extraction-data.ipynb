{
 "cells": [
  {
   "cell_type": "code",
   "execution_count": 14,
   "metadata": {},
   "outputs": [
    {
     "name": "stdout",
     "output_type": "stream",
     "text": [
      "06/14/2023 05:28\n"
     ]
    }
   ],
   "source": [
    "import requests\n",
    "from faker import Faker\n",
    "import random\n",
    "import time\n",
    "import pyodbc\n",
    "from datetime import datetime\n",
    "\n",
    "faker = Faker()\n",
    "\n",
    "cnxn = pyodbc.connect('Driver={SQL Server};'\n",
    "                      'Server=LAPTOP-B5O30HDH\\SQLEXPRESS;'\n",
    "                      'Database=bestbuyStagingAreadb;'\n",
    "                      'Trusted_Connection=yes;')\n",
    "\n",
    "\n",
    "def str_time_prop(start, end, time_format, prop):\n",
    "    \"\"\"Get a time at a proportion of a range of two formatted times.\n",
    "\n",
    "    start and end should be strings specifying times formatted in the\n",
    "    given format (strftime-style), giving an interval [start, end].\n",
    "    prop specifies how a proportion of the interval to be taken after\n",
    "    start.  The returned time will be in the specified format.\n",
    "    \"\"\"\n",
    "\n",
    "    stime = time.mktime(time.strptime(start, time_format))\n",
    "    etime = time.mktime(time.strptime(end, time_format))\n",
    "\n",
    "    ptime = stime + prop * (etime - stime)\n",
    "\n",
    "    return time.strftime(time_format, time.localtime(ptime))\n",
    "\n",
    "\n",
    "def random_date(start, end, prop):\n",
    "    return str_time_prop(start, end, '%m/%d/%Y %I:%M', prop)\n",
    "\n",
    "print(random_date(\"1/1/2023 1:30\", \"1/1/2024 4:50\", random.random()))"
   ]
  },
  {
   "cell_type": "code",
   "execution_count": 15,
   "metadata": {},
   "outputs": [],
   "source": [
    "def getInsertData(pageSize, page):\n",
    "    api_endpoint = 'https://api.bestbuy.com/v1/products'\n",
    "\n",
    "    api_key = 'vGrtaHwUGfKD9wqg1pgF6fDm'\n",
    "\n",
    "    params = {\n",
    "        'apiKey': api_key,\n",
    "        'format': 'json',\n",
    "        'pageSize': pageSize,\n",
    "        'page':page\n",
    "    }\n",
    "    \n",
    "    try:\n",
    "        response = requests.get(api_endpoint, params=params)\n",
    "        if response.status_code == 200:\n",
    "            data = response.json()\n",
    "            cursor = cnxn.cursor()\n",
    "            for p in data['products']:\n",
    "                \n",
    "                for i in range(1,random.randrange(60,512)):\n",
    "                    #Customer info:\n",
    "                    p['customerName'] = faker.name()\n",
    "                    p['customerAge'] = random.randrange(18,65)\n",
    "                    p['customerGender'] = random.choice(['Female', 'Male'])\n",
    "                    p['customuerEmail'] = faker.email()\n",
    "                    p['customerCountry'] = faker.country()\n",
    "\n",
    "                    #Sale info :\n",
    "                    p['saleDate'] = random_date(\"1/1/2023 1:30\", \"1/1/2024 4:50\", random.random())\n",
    "                    #p['saleTime'] = p['saleDate'].split(' ')[1]\n",
    "                    p['quantitySold'] = random.randrange(1,16)\n",
    "                    p['paymentMethod'] = random.choice(['Credit cards', 'Debit cards','Paypal','Apple Pay','Amazon Pay','Google Pay'])\n",
    "                    p['totalPrice'] = p['quantitySold'] * p['salePrice']\n",
    "                    \n",
    "                    #Insertion data into database\n",
    "                    query = '''INSERT INTO Sales(sku,name,type,startDate,new,active,activeUpdateDate,regularPrice,salePrice,\n",
    "                            priceUpdateDate,digital,preowned,url,productTemplate,customerReviewCount,\n",
    "                            customerReviewAverage,customerTopRated,format,freeShipping,shippingCost,\n",
    "                            specialOrder,shortDescription,class,subclass,department,mpaaRating,image,\n",
    "                            condition,genre,customerName,customerAge,customerGender,customuerEmail,\n",
    "                            customerCountry,saleDate,quantitySold,paymentMethod,totalPrice) \n",
    "                            VALUES(?,?,?,?,?,?,?,?,?,?,?,?,?,?,?,?,?,?,?,?,?,?,?,?,?,?,?,?,?,?,?,?,?,?,?,?,?,?)'''\n",
    "                    \n",
    "                    cursor.execute(query,p['sku'],p['name'],p['type'],p['startDate'],p['new'],p['active'],\n",
    "                                   p['activeUpdateDate'],p['regularPrice'],p['salePrice'],p['priceUpdateDate'],\n",
    "                                   p['digital'],p['preowned'],p['url'],p['productTemplate'],p['customerReviewCount'],\n",
    "                                   p['customerReviewAverage'],p['customerTopRated'],p['format'],p['freeShipping'],p['shippingCost'],\n",
    "                                   p['specialOrder'],p['shortDescription'],p['class'],p['subclass'],p['department'],p['mpaaRating'],p['image'],\n",
    "                                   p['condition'],p['genre'],p['customerName'],p['customerAge'],p['customerGender'],p['customuerEmail'],\n",
    "                                   p['customerCountry'],datetime.strptime(p['saleDate'],'%m/%d/%Y %H:%M'),p['quantitySold'],p['paymentMethod'],p['totalPrice'])#,p['saleTime'] ,saleTime\n",
    "                cursor.commit()\n",
    "            cursor.close()\n",
    "        else:\n",
    "            print(f\"Failed to fetch data. Status code: {response.status_code}\")\n",
    "            return -1\n",
    "\n",
    "    except requests.RequestException as e:\n",
    "        print(f\"Request failed: {e}\")\n",
    "\n",
    "page = 28\n",
    "\n",
    "while(True):\n",
    "    getInsertData(pageSize=100,page=page)\n",
    "    print(f'Data of page {page} inserted!')\n",
    "    if page < 30:\n",
    "        page = page + 1\n",
    "    else:\n",
    "        break\n",
    "    time.sleep(4)\n"
   ]
  },
  {
   "cell_type": "code",
   "execution_count": 5,
   "metadata": {},
   "outputs": [
    {
     "name": "stdout",
     "output_type": "stream",
     "text": [
      "{'sku': 1000006, 'score': None, 'productId': None, 'name': 'Spy Kids: All the Time in the World [Includes Digital Copy] [Blu-ray] [2011]', 'source': None, 'type': 'Movie', 'startDate': '2011-04-26', 'new': False, 'active': True, 'lowPriceGuarantee': True, 'activeUpdateDate': '2020-02-29T03:42:41', 'regularPrice': 14.99, 'salePrice': 14.99, 'clearance': False, 'onSale': False, 'planPrice': None, 'priceWithPlan': [], 'contracts': [], 'priceRestriction': None, 'priceUpdateDate': '2023-01-25T00:02:01', 'digital': False, 'preowned': False, 'carriers': [], 'planFeatures': [], 'devices': [], 'carrierPlans': [], 'technologyCode': None, 'carrierModelNumber': None, 'earlyTerminationFees': [], 'monthlyRecurringCharge': '', 'monthlyRecurringChargeGrandTotal': '', 'activationCharge': '', 'minutePrice': '', 'planCategory': None, 'planType': None, 'familyIndividualCode': None, 'validFrom': None, 'validUntil': None, 'carrierPlan': None, 'outletCenter': None, 'secondaryMarket': None, 'frequentlyPurchasedWith': [], 'accessories': [], 'relatedProducts': [], 'requiredParts': [], 'techSupportPlans': [], 'crossSell': [], 'salesRankShortTerm': None, 'salesRankMediumTerm': None, 'salesRankLongTerm': None, 'bestSellingRank': None, 'url': 'https://api.bestbuy.com/click/-/1000006/pdp', 'spin360Url': None, 'mobileUrl': 'https://api.bestbuy.com/click/-/1000006/pdp', 'affiliateUrl': None, 'addToCartUrl': 'https://api.bestbuy.com/click/-/1000006/cart', 'affiliateAddToCartUrl': None, 'linkShareAffiliateUrl': '', 'linkShareAffiliateAddToCartUrl': '', 'upc': '013132620237', 'productTemplate': 'Movies', 'categoryPath': [{'id': 'cat00000', 'name': 'Best Buy'}, {'id': 'abcat0600000', 'name': 'Movies & Music'}, {'id': 'cat02015', 'name': 'Movies & TV Shows'}], 'alternateCategories': [], 'lists': [], 'customerReviewCount': 77, 'customerReviewAverage': 4.5, 'customerTopRated': True, 'format': 'Blu-ray', 'freeShipping': False, 'freeShippingEligible': True, 'inStoreAvailability': False, 'inStoreAvailabilityText': None, 'inStoreAvailabilityUpdateDate': '2020-06-26T18:23:53', 'itemUpdateDate': '2024-01-03T02:19:23', 'onlineAvailability': True, 'onlineAvailabilityText': None, 'onlineAvailabilityUpdateDate': '2023-10-16T06:44:14', 'releaseDate': '2011-11-22', 'shippingCost': 4.99, 'shipping': [{'ground': 4.99, 'secondDay': 12.99, 'nextDay': 21.99, 'vendorDelivery': ''}], 'shippingLevelsOfService': [{'serviceLevelId': 5, 'serviceLevelName': 'One Day', 'unitShippingPrice': 21.99}, {'serviceLevelId': 3, 'serviceLevelName': 'Two Day', 'unitShippingPrice': 12.99}, {'serviceLevelId': 15, 'serviceLevelName': 'Standard', 'unitShippingPrice': 4.99}], 'specialOrder': False, 'shortDescription': None, 'class': 'BLU RAY MOVIES', 'classId': 76, 'subclass': 'CHILDRENS', 'subclassId': 1006, 'department': 'VIDEO/COMPACT DISC', 'departmentId': 8, 'protectionPlanTerm': 'BD-', 'protectionPlanType': None, 'protectionPlanLowPrice': '', 'protectionPlanHighPrice': '', 'buybackPlans': [], 'protectionPlans': [], 'protectionPlanDetails': [], 'productFamilies': [], 'productVariations': [{'sku': '1000006', 'variations': [{'name': 'Entertainment_Media:Product_Name', 'value': 'Spy Kids: All the Time in the World [Includes Digital Copy] [Blu-ray] [2011]'}]}, {'sku': '3699283', 'variations': [{'name': 'Entertainment_Media:Product_Name', 'value': 'Spy Kids: All the Time in the World [Blu-ray] [2011]'}]}], 'aspectRatio': None, 'screenFormat': None, 'lengthInMinutes': 89, 'mpaaRating': 'PG', 'plot': \"A retired spy-turned-full-time homemaker attempts to stop a power-mad supervillain from taking over the planet, and gets some unexpected help from her disagreeable twin step-children in this fourth entry of writer/director Robert Rodriguez's family-friendly adventure series. It's been a long time since former OSS agent Marissa Cortez Wilson (Jessica Alba) went chasing bad guys. These days it's hard enough just to get her precocious stepkids, Rebecca (Rowan Blanchard) and Cecil (Mason Cook), to clean their rooms, and make sure her baby daughter has a full sippy cup. And despite the fact that Marissa's husband, Wilbur (Joel McHale), earns his income chasing spies on TV, he hasn't a clue that his mild-mannered wife was once a cloak-and-dagger woman. Now the nefarious Timekeeper (Jeremy Piven) has hatched a plot for world domination, prompting the OSS to summon Marissa back to active duty. When Rebecca and Cecil discover their stepmother's tightly guarded secret, they realize they might be the only hope for getting her out of a tight jam and foiling the Timekeeper's evil plan. Fortunately Carmen (Alexa Vega) and Juni Cortez (Daryl Sabara) are more than willing to teach Rebecca and Cecil the tricks of the trade, and in no time the two bickering ten-year-olds are wielding hi-tech gadgets and heading out on their first assignment.~Jason Buchanan\", 'studio': 'Lionsgate', 'theatricalReleaseDate': '2011', 'description': None, 'manufacturer': None, 'modelNumber': '26091006', 'images': [{'rel': 'Front_Original', 'unitOfMeasure': 'pixels', 'width': '778', 'height': '1000', 'href': 'https://pisces.bbystatic.com/image2/BestBuy_US/images/products/1000/1000006_so.jpg', 'primary': True}, {'rel': 'Front_Thumbnail', 'unitOfMeasure': 'pixels', 'width': '54', 'height': '69', 'href': 'https://pisces.bbystatic.com/image2/BestBuy_US/images/products/1000/1000006_s.gif', 'primary': False}, {'rel': 'Front_Detail', 'unitOfMeasure': 'pixels', 'width': '105', 'height': '135', 'href': 'https://pisces.bbystatic.com/image2/BestBuy_US/images/products/1000/1000006_sc.jpg', 'primary': False}, {'rel': 'Front_Standard', 'unitOfMeasure': 'pixels', 'width': '389', 'height': '500', 'href': 'https://pisces.bbystatic.com/image2/BestBuy_US/images/products/1000/1000006_sa.jpg', 'primary': False}, {'rel': 'Front_Large', 'unitOfMeasure': 'pixels', 'width': '124', 'height': '160', 'href': 'https://pisces.bbystatic.com/image2/BestBuy_US/images/products/1000/1000006_sb.jpg', 'primary': False}, {'rel': 'Front_Medium', 'unitOfMeasure': 'pixels', 'width': '70', 'height': '90', 'href': 'https://pisces.bbystatic.com/image2/BestBuy_US/images/products/1000/1000006fp.gif', 'primary': False}], 'image': 'https://pisces.bbystatic.com/image2/BestBuy_US/images/products/1000/1000006_sa.jpg', 'largeFrontImage': 'https://pisces.bbystatic.com/image2/BestBuy_US/images/products/1000/1000006_sb.jpg', 'mediumImage': 'https://pisces.bbystatic.com/image2/BestBuy_US/images/products/1000/1000006fp.gif', 'thumbnailImage': 'https://pisces.bbystatic.com/image2/BestBuy_US/images/products/1000/1000006_s.gif', 'largeImage': 'https://pisces.bbystatic.com/image2/BestBuy_US/images/products/1000/1000006_sb.jpg', 'alternateViewsImage': None, 'angleImage': None, 'backViewImage': None, 'energyGuideImage': None, 'leftViewImage': None, 'accessoriesImage': None, 'remoteControlImage': None, 'rightViewImage': None, 'topViewImage': None, 'albumTitle': 'Spy Kids: All the Time in the World [Includes Digital Copy] [Blu-ray]', 'artistName': None, 'artistId': None, 'originalReleaseDate': None, 'parentalAdvisory': None, 'mediaCount': None, 'monoStereo': None, 'studioLive': None, 'condition': 'New', 'inStorePickup': False, 'friendsAndFamilyPickup': True, 'homeDelivery': False, 'quantityLimit': 3, 'fulfilledBy': None, 'members': [], 'bundledIn': [], 'albumLabel': None, 'genre': 'Action and Adventure', 'color': None, 'depth': None, 'dollarSavings': 0.0, 'percentSavings': '0.0', 'tradeInValue': '', 'height': None, 'orderable': 'Available', 'weight': None, 'shippingWeight': 0.25, 'width': None, 'warrantyLabor': None, 'warrantyParts': None, 'softwareAge': None, 'softwareGrade': None, 'platform': None, 'numberOfPlayers': None, 'softwareNumberOfPlayers': None, 'esrbRating': None, 'longDescription': None, 'includedItemList': [], 'marketplace': None, 'listingId': None, 'sellerId': None, 'shippingRestrictions': None, 'proposition65WarningMessage': None, 'proposition65WarningType': '05'}\n"
     ]
    }
   ],
   "source": [
    "api_key = 'vGrtaHwUGfKD9wqg1pgF6fDm'\n",
    "sku = 1000006\n",
    "url_details = f\"https://api.bestbuy.com/v1/products/{sku}.json?apiKey={api_key}\"\n",
    "response_details = requests.get(url_details)\n",
    "\n",
    "if response_details.status_code == 200:\n",
    "    product_details = response_details.json()\n",
    "    print(product_details)\n",
    "else:\n",
    "    print('Error fetching...')"
   ]
  }
 ],
 "metadata": {
  "kernelspec": {
   "display_name": "base",
   "language": "python",
   "name": "python3"
  },
  "language_info": {
   "codemirror_mode": {
    "name": "ipython",
    "version": 3
   },
   "file_extension": ".py",
   "mimetype": "text/x-python",
   "name": "python",
   "nbconvert_exporter": "python",
   "pygments_lexer": "ipython3",
   "version": "3.10.10"
  }
 },
 "nbformat": 4,
 "nbformat_minor": 2
}
